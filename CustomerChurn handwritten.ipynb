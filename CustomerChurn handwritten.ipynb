{
 "cells": [
  {
   "cell_type": "markdown",
   "id": "2c6daba5",
   "metadata": {},
   "source": [
    "#Customer Churn - Decision tree model using Numpy"
   ]
  },
  {
   "cell_type": "code",
   "execution_count": 38,
   "id": "11d969f5",
   "metadata": {},
   "outputs": [],
   "source": [
    "import numpy as np\n",
    "import openml\n",
    "import pandas as pd"
   ]
  },
  {
   "cell_type": "markdown",
   "id": "7d70546c",
   "metadata": {},
   "source": [
    "#Load dataset from openml for customer churn\n",
    "Here I have used the dataset with id 45568"
   ]
  },
  {
   "cell_type": "code",
   "execution_count": 39,
   "id": "5e2798fe",
   "metadata": {},
   "outputs": [
    {
     "name": "stdout",
     "output_type": "stream",
     "text": [
      "   gender SeniorCitizen Partner Dependents  tenure PhoneService  \\\n",
      "0  Female             0     Yes         No       1           No   \n",
      "1    Male             0      No         No      34          Yes   \n",
      "2    Male             0      No         No       2          Yes   \n",
      "3    Male             0      No         No      45           No   \n",
      "4  Female             0      No         No       2          Yes   \n",
      "\n",
      "      MultipleLines InternetService OnlineSecurity OnlineBackup  \\\n",
      "0  No phone service             DSL             No          Yes   \n",
      "1                No             DSL            Yes           No   \n",
      "2                No             DSL            Yes          Yes   \n",
      "3  No phone service             DSL            Yes           No   \n",
      "4                No     Fiber optic             No           No   \n",
      "\n",
      "  DeviceProtection TechSupport StreamingTV StreamingMovies        Contract  \\\n",
      "0               No          No          No              No  Month-to-month   \n",
      "1              Yes          No          No              No        One year   \n",
      "2               No          No          No              No  Month-to-month   \n",
      "3              Yes         Yes          No              No        One year   \n",
      "4               No          No          No              No  Month-to-month   \n",
      "\n",
      "  PaperlessBilling              PaymentMethod  MonthlyCharges  TotalCharges  \\\n",
      "0              Yes           Electronic check           29.85         29.85   \n",
      "1               No               Mailed check           56.95       1889.50   \n",
      "2              Yes               Mailed check           53.85        108.15   \n",
      "3               No  Bank transfer (automatic)           42.30       1840.75   \n",
      "4              Yes           Electronic check           70.70        151.65   \n",
      "\n",
      "  Churn  \n",
      "0    No  \n",
      "1    No  \n",
      "2   Yes  \n",
      "3    No  \n",
      "4   Yes  \n"
     ]
    }
   ],
   "source": [
    "dataset = openml.datasets.get_dataset(45568) #Load data from open ml \n",
    "#the loaded data returns not a single value but many like (dataframe, attribute name, class names,...)\n",
    "#We inly use dataframe which is the 2D table of data we need\n",
    "#Hence we assign the first returned value dataframe to df and the rest (*) to '_' which is like a throw away variable \n",
    "df, *_= dataset.get_data()\n",
    "print(df.head())#shows some sample rows from the dataframe df"
   ]
  },
  {
   "cell_type": "markdown",
   "id": "bd414bfc",
   "metadata": {},
   "source": [
    "#Cleaning up the dataset\n",
    "As we can see the features does not only contain digits but also strin values which makes it difficult for comaprison and categorising, so lets map the strings to digits.\n",
    "example: for gender- female/male is converted to 1/0\n",
    "for contract: month to month is 0, one year is 1, two years is 2,...\n",
    "\n",
    "###Kindly note that it does not matter what value is mapped to which number since we can always store the mapped data"
   ]
  },
  {
   "cell_type": "code",
   "execution_count": 40,
   "id": "fb6f6bd6",
   "metadata": {},
   "outputs": [],
   "source": [
    "#Used to map string value to integers\n",
    "def auto_encode(df):\n",
    "    encodings = {}#store which digit maps to which value for latwer use\n",
    "    for col in df.columns:\n",
    "        if df[col].dtype == 'category':# if the samples vlue is a string in the \n",
    "            #fill null values with mode\n",
    "            df[col] = df[col].fillna(df[col].mode()[0])\n",
    "\n",
    "            #store mappings\n",
    "            encodings[col] = dict(enumerate(df[col].cat.categories))\n",
    "\n",
    "            # Multi-category → integer codes\n",
    "            df[col] = df[col].astype('category').cat.codes# cat codes assign values starting from 0\n",
    "\n",
    "        elif df[col].dtype == 'float': #fill null float values with their mean\n",
    "            df[col] = df[col].fillna(df[col].mean())\n",
    "    return df,encodings\n",
    "\n",
    "#this can also used directly from sklearn, here we are implementing it manually\n",
    "def train_test_split(X, y, test_ratio=0.2):\n",
    "    n_samples = len(X)\n",
    "    indices = np.arange(n_samples)         # [0, 1, 2, ..., n_samples-1]\n",
    "    np.random.shuffle(indices)             # Shuffle the order randomly\n",
    "\n",
    "    test_size = int(n_samples * test_ratio)\n",
    "    \n",
    "    test_indices = indices[:test_size]\n",
    "    train_indices = indices[test_size:]\n",
    "    \n",
    "    X_train = X[train_indices]\n",
    "    y_train = y[train_indices]\n",
    "    X_test  = X[test_indices]\n",
    "    y_test  = y[test_indices]\n",
    "    \n",
    "    return X_train, y_train, X_test, y_test"
   ]
  },
  {
   "cell_type": "markdown",
   "id": "3980d6d5",
   "metadata": {},
   "source": [
    "#Final cleanup and split data"
   ]
  },
  {
   "cell_type": "code",
   "execution_count": 41,
   "id": "50603ff5",
   "metadata": {},
   "outputs": [],
   "source": [
    "'''# Checkk all numeric columns safely,the numeric values can be strings like '200' is converted into float\n",
    "#if the value is a string or nill 'abc' or '' in total charges then they are converted into Nan- not a number by the error='coerce'\n",
    "for col in df.columns:\n",
    "    # Try converting each column to numeric\n",
    "    df[col] = pd.to_numeric(df[col], errors='ignore')\n",
    "\n",
    "#Drop any row in the dataframe that has NAN values, inline is used so that the same dataframe is edited instead of saving it into another\n",
    "df.dropna(inplace=True)'''\n",
    "\n",
    "# Encode automatically, map values to integers\n",
    "df,encodings = auto_encode(df)\n",
    "\n",
    "# Prepare values and convert from pandas data frame to numpy array \n",
    "X = df.drop(columns=['Churn']).values\n",
    "y = df['Churn'].values\n",
    "\n",
    "X_train, y_train, X_test, y_test = train_test_split(X,y)\n",
    "#Shuffle and split for test and training stes"
   ]
  },
  {
   "cell_type": "code",
   "execution_count": 43,
   "id": "8483f017",
   "metadata": {},
   "outputs": [
    {
     "name": "stdout",
     "output_type": "stream",
     "text": [
      "{'gender': {0: 'Female', 1: 'Male'}, 'SeniorCitizen': {0: '0', 1: '1'}, 'Partner': {0: 'No', 1: 'Yes'}, 'Dependents': {0: 'No', 1: 'Yes'}, 'PhoneService': {0: 'No', 1: 'Yes'}, 'MultipleLines': {0: 'No', 1: 'No phone service', 2: 'Yes'}, 'InternetService': {0: 'DSL', 1: 'Fiber optic', 2: 'No'}, 'OnlineSecurity': {0: 'No', 1: 'No internet service', 2: 'Yes'}, 'OnlineBackup': {0: 'No', 1: 'No internet service', 2: 'Yes'}, 'DeviceProtection': {0: 'No', 1: 'No internet service', 2: 'Yes'}, 'TechSupport': {0: 'No', 1: 'No internet service', 2: 'Yes'}, 'StreamingTV': {0: 'No', 1: 'No internet service', 2: 'Yes'}, 'StreamingMovies': {0: 'No', 1: 'No internet service', 2: 'Yes'}, 'Contract': {0: 'Month-to-month', 1: 'One year', 2: 'Two year'}, 'PaperlessBilling': {0: 'No', 1: 'Yes'}, 'PaymentMethod': {0: 'Bank transfer (automatic)', 1: 'Credit card (automatic)', 2: 'Electronic check', 3: 'Mailed check'}, 'Churn': {0: 'No', 1: 'Yes'}}\n",
      "      gender  SeniorCitizen  Partner  Dependents  tenure  PhoneService  \\\n",
      "0          0              0        1           0       1             0   \n",
      "1          1              0        0           0      34             1   \n",
      "2          1              0        0           0       2             1   \n",
      "3          1              0        0           0      45             0   \n",
      "4          0              0        0           0       2             1   \n",
      "...      ...            ...      ...         ...     ...           ...   \n",
      "7038       1              0        1           1      24             1   \n",
      "7039       0              0        1           1      72             1   \n",
      "7040       0              0        1           1      11             0   \n",
      "7041       1              1        1           0       4             1   \n",
      "7042       1              0        0           0      66             1   \n",
      "\n",
      "      MultipleLines  InternetService  OnlineSecurity  OnlineBackup  \\\n",
      "0                 1                0               0             2   \n",
      "1                 0                0               2             0   \n",
      "2                 0                0               2             2   \n",
      "3                 1                0               2             0   \n",
      "4                 0                1               0             0   \n",
      "...             ...              ...             ...           ...   \n",
      "7038              2                0               2             0   \n",
      "7039              2                1               0             2   \n",
      "7040              1                0               2             0   \n",
      "7041              2                1               0             0   \n",
      "7042              0                1               2             0   \n",
      "\n",
      "      DeviceProtection  TechSupport  StreamingTV  StreamingMovies  Contract  \\\n",
      "0                    0            0            0                0         0   \n",
      "1                    2            0            0                0         1   \n",
      "2                    0            0            0                0         0   \n",
      "3                    2            2            0                0         1   \n",
      "4                    0            0            0                0         0   \n",
      "...                ...          ...          ...              ...       ...   \n",
      "7038                 2            2            2                2         1   \n",
      "7039                 2            0            2                2         1   \n",
      "7040                 0            0            0                0         0   \n",
      "7041                 0            0            0                0         0   \n",
      "7042                 2            2            2                2         2   \n",
      "\n",
      "      PaperlessBilling  PaymentMethod  MonthlyCharges  TotalCharges  Churn  \n",
      "0                    1              2           29.85         29.85      0  \n",
      "1                    0              3           56.95       1889.50      0  \n",
      "2                    1              3           53.85        108.15      1  \n",
      "3                    0              0           42.30       1840.75      0  \n",
      "4                    1              2           70.70        151.65      1  \n",
      "...                ...            ...             ...           ...    ...  \n",
      "7038                 1              3           84.80       1990.50      0  \n",
      "7039                 1              1          103.20       7362.90      0  \n",
      "7040                 1              2           29.60        346.45      0  \n",
      "7041                 1              3           74.40        306.60      1  \n",
      "7042                 1              0          105.65       6844.50      0  \n",
      "\n",
      "[7043 rows x 20 columns]\n"
     ]
    }
   ],
   "source": [
    "print(encodings)\n",
    "print(df)"
   ]
  },
  {
   "cell_type": "markdown",
   "id": "b2e06eaa",
   "metadata": {},
   "source": [
    "##Now we will be implementing the different functions starting frooom the math logics that are required"
   ]
  }
 ],
 "metadata": {
  "kernelspec": {
   "display_name": "Python 3",
   "language": "python",
   "name": "python3"
  },
  "language_info": {
   "codemirror_mode": {
    "name": "ipython",
    "version": 3
   },
   "file_extension": ".py",
   "mimetype": "text/x-python",
   "name": "python",
   "nbconvert_exporter": "python",
   "pygments_lexer": "ipython3",
   "version": "3.11.9"
  }
 },
 "nbformat": 4,
 "nbformat_minor": 5
}
