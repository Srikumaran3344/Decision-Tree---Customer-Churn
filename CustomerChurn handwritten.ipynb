{
 "cells": [
  {
   "cell_type": "markdown",
   "id": "2c6daba5",
   "metadata": {},
   "source": [
    "#Customer Churn - Decision tree model using Numpy"
   ]
  },
  {
   "cell_type": "code",
   "execution_count": 6,
   "id": "11d969f5",
   "metadata": {},
   "outputs": [],
   "source": [
    "import numpy as np\n",
    "import openml\n",
    "import pandas as pd"
   ]
  },
  {
   "cell_type": "markdown",
   "id": "7d70546c",
   "metadata": {},
   "source": [
    "#Load dataset from openml for customer churn\n",
    "Here I have used the dataset with id 45568"
   ]
  },
  {
   "cell_type": "code",
   "execution_count": 7,
   "id": "5e2798fe",
   "metadata": {},
   "outputs": [
    {
     "name": "stdout",
     "output_type": "stream",
     "text": [
      "   gender SeniorCitizen Partner Dependents  tenure PhoneService  \\\n",
      "0  Female             0     Yes         No       1           No   \n",
      "1    Male             0      No         No      34          Yes   \n",
      "2    Male             0      No         No       2          Yes   \n",
      "3    Male             0      No         No      45           No   \n",
      "4  Female             0      No         No       2          Yes   \n",
      "\n",
      "      MultipleLines InternetService OnlineSecurity OnlineBackup  \\\n",
      "0  No phone service             DSL             No          Yes   \n",
      "1                No             DSL            Yes           No   \n",
      "2                No             DSL            Yes          Yes   \n",
      "3  No phone service             DSL            Yes           No   \n",
      "4                No     Fiber optic             No           No   \n",
      "\n",
      "  DeviceProtection TechSupport StreamingTV StreamingMovies        Contract  \\\n",
      "0               No          No          No              No  Month-to-month   \n",
      "1              Yes          No          No              No        One year   \n",
      "2               No          No          No              No  Month-to-month   \n",
      "3              Yes         Yes          No              No        One year   \n",
      "4               No          No          No              No  Month-to-month   \n",
      "\n",
      "  PaperlessBilling              PaymentMethod  MonthlyCharges  TotalCharges  \\\n",
      "0              Yes           Electronic check           29.85         29.85   \n",
      "1               No               Mailed check           56.95       1889.50   \n",
      "2              Yes               Mailed check           53.85        108.15   \n",
      "3               No  Bank transfer (automatic)           42.30       1840.75   \n",
      "4              Yes           Electronic check           70.70        151.65   \n",
      "\n",
      "  Churn  \n",
      "0    No  \n",
      "1    No  \n",
      "2   Yes  \n",
      "3    No  \n",
      "4   Yes  \n"
     ]
    }
   ],
   "source": [
    "dataset = openml.datasets.get_dataset(45568) #Load data from open ml \n",
    "#the loaded data returns not a single value but many like (dataframe, attribute name, class names,...)\n",
    "#We inly use dataframe which is the 2D table of data we need\n",
    "#Hence we assign the first returned value dataframe to df and the rest (*) to '_' which is like a throw away variable \n",
    "df, *_= dataset.get_data()\n",
    "print(df.head())#shows some sample rows from the dataframe df"
   ]
  },
  {
   "cell_type": "markdown",
   "id": "bd414bfc",
   "metadata": {},
   "source": [
    "#Cleaning up the dataset\n",
    "As we can see the features does not only contain digits but also strin values which makes it difficult for comaprison and categorising, so lets map the strings to digits.\n",
    "example: for gender- female/male is converted to 1/0\n",
    "for contract: month to month is 0, one year is 1, two years is 2,...\n",
    "\n",
    "###Kindly note that it does not matter what value is mapped to which number since we can always store the mapped data"
   ]
  },
  {
   "cell_type": "code",
   "execution_count": 8,
   "id": "fb6f6bd6",
   "metadata": {},
   "outputs": [
    {
     "ename": "SyntaxError",
     "evalue": "invalid syntax (792404126.py, line 12)",
     "output_type": "error",
     "traceback": [
      "  \u001b[36mCell\u001b[39m\u001b[36m \u001b[39m\u001b[32mIn[8]\u001b[39m\u001b[32m, line 12\u001b[39m\n\u001b[31m    \u001b[39m\u001b[31mdf[col] = df[col].astype('category').cat.# cat codes assign values starting from 0\u001b[39m\n                                             ^\n\u001b[31mSyntaxError\u001b[39m\u001b[31m:\u001b[39m invalid syntax\n"
     ]
    }
   ],
   "source": [
    "#Used to map string value to integers\n",
    "def auto_encode(df):\n",
    "    for col in df.columns:\n",
    "        if df[col].dtype == 'object':# if type of the value is string\n",
    "            if df[col].nunique() == 2: #if number of unique classes in the feature is 2\n",
    "                # Binary → 0/1\n",
    "                vals = df[col].unique()\n",
    "                df[col] = df[col].map({vals[0]: 0, vals[1]: 1})\n",
    "            else:\n",
    "                # Multi-category → integer codes\n",
    "                \n",
    "                df[col] = df[col].astype('category').cat.# cat codes assign values starting from 0\n",
    "    return df\n"
   ]
  },
  {
   "cell_type": "markdown",
   "id": "3980d6d5",
   "metadata": {},
   "source": [
    "#Final cleanup for loaded data"
   ]
  },
  {
   "cell_type": "code",
   "execution_count": null,
   "id": "50603ff5",
   "metadata": {},
   "outputs": [
    {
     "ename": "NameError",
     "evalue": "name 'pd' is not defined",
     "output_type": "error",
     "traceback": [
      "\u001b[31m---------------------------------------------------------------------------\u001b[39m",
      "\u001b[31mNameError\u001b[39m                                 Traceback (most recent call last)",
      "\u001b[36mCell\u001b[39m\u001b[36m \u001b[39m\u001b[32mIn[5]\u001b[39m\u001b[32m, line 2\u001b[39m\n\u001b[32m      1\u001b[39m \u001b[38;5;66;03m# Convert TotalCharges safely, heer the numeric values that are strings '200' is converted into float,\u001b[39;00m\n\u001b[32m----> \u001b[39m\u001b[32m2\u001b[39m df[\u001b[33m'\u001b[39m\u001b[33mTotalCharges\u001b[39m\u001b[33m'\u001b[39m] = \u001b[43mpd\u001b[49m.to_numeric(df[\u001b[33m'\u001b[39m\u001b[33mTotalCharges\u001b[39m\u001b[33m'\u001b[39m], errors=\u001b[33m'\u001b[39m\u001b[33mcoerce\u001b[39m\u001b[33m'\u001b[39m)\n\u001b[32m      3\u001b[39m df.dropna(inplace=\u001b[38;5;28;01mTrue\u001b[39;00m)\n\u001b[32m      5\u001b[39m \u001b[38;5;66;03m# Encode automatically\u001b[39;00m\n",
      "\u001b[31mNameError\u001b[39m: name 'pd' is not defined"
     ]
    }
   ],
   "source": [
    "# Convert TotalCharges safely, heer the numeric values that are strings '200' is converted into float\n",
    "#if the value is a string or nill 'abc' or '' in total charges then they are converted into Nan- not a number by the error='coerce'\n",
    "df['TotalCharges'] = pd.to_numeric(df['TotalCharges'], errors='coerce')\n",
    "#Drop any row in the dataframe that has NAN values, inline is used so that the same dataframe is edited instead of saving it into another\n",
    "df.dropna(inplace=True)\n",
    "\n",
    "# Encode automatically\n",
    "df = auto_encode(df)\n",
    "\n",
    "# Prepare arrays for manual tree\n",
    "X = df.drop(columns=['Churn']).values\n",
    "y = df['Churn'].values"
   ]
  }
 ],
 "metadata": {
  "kernelspec": {
   "display_name": "Python 3",
   "language": "python",
   "name": "python3"
  },
  "language_info": {
   "codemirror_mode": {
    "name": "ipython",
    "version": 3
   },
   "file_extension": ".py",
   "mimetype": "text/x-python",
   "name": "python",
   "nbconvert_exporter": "python",
   "pygments_lexer": "ipython3",
   "version": "3.11.9"
  }
 },
 "nbformat": 4,
 "nbformat_minor": 5
}
